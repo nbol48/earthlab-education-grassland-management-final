{
 "cells": [
  {
   "cell_type": "markdown",
   "metadata": {},
   "source": [
    "Step 1: Load all relevant libraries"
   ]
  },
  {
   "cell_type": "code",
   "execution_count": 1,
   "metadata": {},
   "outputs": [
    {
     "data": {
      "application/javascript": "(function(root) {\n  function now() {\n    return new Date();\n  }\n\n  var force = true;\n  var py_version = '3.3.0'.replace('rc', '-rc.').replace('.dev', '-dev.');\n  var is_dev = py_version.indexOf(\"+\") !== -1 || py_version.indexOf(\"-\") !== -1;\n  var reloading = false;\n  var Bokeh = root.Bokeh;\n  var bokeh_loaded = Bokeh != null && (Bokeh.version === py_version || (Bokeh.versions !== undefined && Bokeh.versions.has(py_version)));\n\n  if (typeof (root._bokeh_timeout) === \"undefined\" || force) {\n    root._bokeh_timeout = Date.now() + 5000;\n    root._bokeh_failed_load = false;\n  }\n\n  function run_callbacks() {\n    try {\n      root._bokeh_onload_callbacks.forEach(function(callback) {\n        if (callback != null)\n          callback();\n      });\n    } finally {\n      delete root._bokeh_onload_callbacks;\n    }\n    console.debug(\"Bokeh: all callbacks have finished\");\n  }\n\n  function load_libs(css_urls, js_urls, js_modules, js_exports, callback) {\n    if (css_urls == null) css_urls = [];\n    if (js_urls == null) js_urls = [];\n    if (js_modules == null) js_modules = [];\n    if (js_exports == null) js_exports = {};\n\n    root._bokeh_onload_callbacks.push(callback);\n\n    if (root._bokeh_is_loading > 0) {\n      console.debug(\"Bokeh: BokehJS is being loaded, scheduling callback at\", now());\n      return null;\n    }\n    if (js_urls.length === 0 && js_modules.length === 0 && Object.keys(js_exports).length === 0) {\n      run_callbacks();\n      return null;\n    }\n    if (!reloading) {\n      console.debug(\"Bokeh: BokehJS not loaded, scheduling load and callback at\", now());\n    }\n\n    function on_load() {\n      root._bokeh_is_loading--;\n      if (root._bokeh_is_loading === 0) {\n        console.debug(\"Bokeh: all BokehJS libraries/stylesheets loaded\");\n        run_callbacks()\n      }\n    }\n    window._bokeh_on_load = on_load\n\n    function on_error() {\n      console.error(\"failed to load \" + url);\n    }\n\n    var skip = [];\n    if (window.requirejs) {\n      window.requirejs.config({'packages': {}, 'paths': {'jspanel': 'https://cdn.jsdelivr.net/npm/jspanel4@4.12.0/dist/jspanel', 'jspanel-modal': 'https://cdn.jsdelivr.net/npm/jspanel4@4.12.0/dist/extensions/modal/jspanel.modal', 'jspanel-tooltip': 'https://cdn.jsdelivr.net/npm/jspanel4@4.12.0/dist/extensions/tooltip/jspanel.tooltip', 'jspanel-hint': 'https://cdn.jsdelivr.net/npm/jspanel4@4.12.0/dist/extensions/hint/jspanel.hint', 'jspanel-layout': 'https://cdn.jsdelivr.net/npm/jspanel4@4.12.0/dist/extensions/layout/jspanel.layout', 'jspanel-contextmenu': 'https://cdn.jsdelivr.net/npm/jspanel4@4.12.0/dist/extensions/contextmenu/jspanel.contextmenu', 'jspanel-dock': 'https://cdn.jsdelivr.net/npm/jspanel4@4.12.0/dist/extensions/dock/jspanel.dock', 'gridstack': 'https://cdn.jsdelivr.net/npm/gridstack@7.2.3/dist/gridstack-all', 'notyf': 'https://cdn.jsdelivr.net/npm/notyf@3/notyf.min'}, 'shim': {'jspanel': {'exports': 'jsPanel'}, 'gridstack': {'exports': 'GridStack'}}});\n      require([\"jspanel\"], function(jsPanel) {\n\twindow.jsPanel = jsPanel\n\ton_load()\n      })\n      require([\"jspanel-modal\"], function() {\n\ton_load()\n      })\n      require([\"jspanel-tooltip\"], function() {\n\ton_load()\n      })\n      require([\"jspanel-hint\"], function() {\n\ton_load()\n      })\n      require([\"jspanel-layout\"], function() {\n\ton_load()\n      })\n      require([\"jspanel-contextmenu\"], function() {\n\ton_load()\n      })\n      require([\"jspanel-dock\"], function() {\n\ton_load()\n      })\n      require([\"gridstack\"], function(GridStack) {\n\twindow.GridStack = GridStack\n\ton_load()\n      })\n      require([\"notyf\"], function() {\n\ton_load()\n      })\n      root._bokeh_is_loading = css_urls.length + 9;\n    } else {\n      root._bokeh_is_loading = css_urls.length + js_urls.length + js_modules.length + Object.keys(js_exports).length;\n    }\n\n    var existing_stylesheets = []\n    var links = document.getElementsByTagName('link')\n    for (var i = 0; i < links.length; i++) {\n      var link = links[i]\n      if (link.href != null) {\n\texisting_stylesheets.push(link.href)\n      }\n    }\n    for (var i = 0; i < css_urls.length; i++) {\n      var url = css_urls[i];\n      if (existing_stylesheets.indexOf(url) !== -1) {\n\ton_load()\n\tcontinue;\n      }\n      const element = document.createElement(\"link\");\n      element.onload = on_load;\n      element.onerror = on_error;\n      element.rel = \"stylesheet\";\n      element.type = \"text/css\";\n      element.href = url;\n      console.debug(\"Bokeh: injecting link tag for BokehJS stylesheet: \", url);\n      document.body.appendChild(element);\n    }    if (((window['jsPanel'] !== undefined) && (!(window['jsPanel'] instanceof HTMLElement))) || window.requirejs) {\n      var urls = ['https://cdn.holoviz.org/panel/1.3.1/dist/bundled/floatpanel/jspanel4@4.12.0/dist/jspanel.js', 'https://cdn.holoviz.org/panel/1.3.1/dist/bundled/floatpanel/jspanel4@4.12.0/dist/extensions/modal/jspanel.modal.js', 'https://cdn.holoviz.org/panel/1.3.1/dist/bundled/floatpanel/jspanel4@4.12.0/dist/extensions/tooltip/jspanel.tooltip.js', 'https://cdn.holoviz.org/panel/1.3.1/dist/bundled/floatpanel/jspanel4@4.12.0/dist/extensions/hint/jspanel.hint.js', 'https://cdn.holoviz.org/panel/1.3.1/dist/bundled/floatpanel/jspanel4@4.12.0/dist/extensions/layout/jspanel.layout.js', 'https://cdn.holoviz.org/panel/1.3.1/dist/bundled/floatpanel/jspanel4@4.12.0/dist/extensions/contextmenu/jspanel.contextmenu.js', 'https://cdn.holoviz.org/panel/1.3.1/dist/bundled/floatpanel/jspanel4@4.12.0/dist/extensions/dock/jspanel.dock.js'];\n      for (var i = 0; i < urls.length; i++) {\n        sk\u0001\u0000\u0000Ԭ\u0000\u0001\u0005[\u0000\u0000\u0003\u001c\u0002\u0000\u0000ihV\u0013$provideCodeActions\u0000\u0000\u0002�[62,{\"$mid\":1,\"fsPath\":\"/workspaces/earthlab-education-grassland-management-final/01-grassland-mangagment-final-nb.ipynb\",\"external\":\"vscode-notebook-cell://codespaces%2Bobscure-space-invention-r4gw5vv6x7qqf5x46/workspaces/earthlab-education-grassland-management-final/01-grassland-mangagment-final-nb.ipynb#X20sdnNjb2RlLXJlbW90ZQ%3D%3D\",\"path\":\"/workspaces/earthlab-education-grassland-management-final/01-grassland-mangagment-final-nb.ipynb\",\"scheme\":\"vscode-notebook-cell\",\"authority\":\"codespaces+obscure-space-invention-r4gw5vv6x7qqf5x46\",\"fragment\":\"X20sdnNjb2RlLXJlbW90ZQ==\"},{\"startLineNumber\":3,\"startColumn\":50,\"endLineNumber\":3,\"endColumn\":50,\"selectionStartLineNumber\":3,\"selectionStartColumn\":50,\"positionLineNumber\":3,\"positionColumn\":50},{\"trigger\":2}]\u0001\u0000\u0000ԭ\u0000\u0001\u0005[\u0000\u0000\u0003\u001c\u0002\u0000\u0000iiV\u0013$provideCodeActions\u0000\u0000\u0002�[11,{\"$mid\":1,\"fsPath\":\"/workspaces/earthlab-education-grassland-management-final/01-grassland-mangagment-final-nb.ipynb\",\"external\":\"vscode-notebook-cell://codespaces%2Bobscure-space-invention-r4gw5vv6x7qqf5x46/workspaces/earthlab-education-grassland-management-final/01-grassland-mangagment-final-nb.ipynb#X20sdnNjb2RlLXJlbW90ZQ%3D%3D\",\"path\":\"/workspaces/earthlab-education-grassland-management-final/01-grassland-mangagment-final-nb.ipynb\",\"scheme\":\"vscode-notebook-cell\",\"authority\":\"codespaces+obscure-space-invention-r4gw5vv6x7qqf5x46\",\"fragment\":\"X20sdnNjb2RlLXJlbW90ZQ==\"},{\"startLineNumber\":3,\"startColumn\":50,\"endLineNumber\":3,\"endColumn\":50,\"selectionStartLineNumber\":3,\"selectionStartColumn\":50,\"positionLineNumber\":3,\"positionColumn\":50},{\"trigger\":2}]\u0001\u0000\u0000Ԯ\u0000\u0001\u0005[\u0000\u0000\u0003\u001c\u0002\u0000\u0000ijV\u0013$provideCodeActions\u0000\u0000\u0002�[80,{\"$mid\":1,\"fsPath\":\"/workspaces/earthlab-education-grassland-management-final/01-grassland-mangagment-final-nb.ipynb\",\"external\":\"vscode-notebook-cell://codespaces%2Bobscure-space-invention-r4gw5vv6x7qqf5x46/workspaces/earthlab-education-grassland-management-final/01-grassland-mangagment-final-nb.ipynb#X20sdnNjb2RlLXJlbW90ZQ%3D%3D\",\"path\":\"/workspaces/earthlab-education-grassland-management-final/01-grassland-mangagment-final-nb.ipynb\",\"scheme\":\"vscode-notebook-cell\",\"authority\":\"codespaces+obscure-space-invention-r4gw5vv6x7qqf5x46\",\"fragment\":\"X20sdnNjb2RlLXJlbW90ZQ==\"},{\"startLineNumber\":3,\"startColumn\":50,\"endLineNumber\":3,\"endColumn\":50,\"selectionStartLineNumber\":3,\"selectionStartColumn\":50,\"positionLineNumber\":3,\"positionColumn\":50},{\"trigger\":2}]\u0001\u0000\u0000ԯ\u0000\u0001\u0005[\u0000\u0000\u0000%\u0001\u0000\u0000ikV\u0013$releaseCodeActions\u0000\u0000\u0000\u0007[62,49]\u0001\u0000\u0000԰\u0000\u0001\u0005[\u0000\u0000\u0002i\u0002\u0000\u0000ilV\u0015$provideFoldingRanges\u0000\u0000\u0002I[66,{\"$mid\":1,\"fsPath\":\"/workspaces/earthlab-education-grassland-management-final/01-grassland-mangagment-final-nb.ipynb\",\"external\":\"vscode-notebook-cell://codespaces%2Bobscure-space-invention-r4gw5vv6x7qqf5x46/workspaces/earthlab-education-grassland-management-final/01-grassland-mangagment-final-nb.ipynb#X20sdnNjb2RlLXJlbW90ZQ%3D%3D\",\"path\":\"/workspaces/earthlab-education-grassland-management-final/01-grassland-mangagment-final-nb.ipynb\",\"scheme\":\"vscode-notebook-cell\",\"authority\":\"codespaces+obscure-space-invention-r4gw5vv6x7qqf5x46\",\"fragment\":\"X20sdnNjb2RlLXJlbW90ZQ==\"},{}]\u0001\u0000\u0000Ա\u0000\u0001\u0005[\u0000\u0000\u0002h\u0002\u0000\u0000imV\u0015$provideFoldingRanges\u0000\u0000\u0002H[9,{\"$mid\":1,\"fsPath\":\"/workspaces/earthlab-education-grassland-management-final/01-grassland-mangagment-final-nb.ipynb\",\"external\":\"vscode-notebook-cell://codespaces%2Bobscure-space-invention-r4gw5vv6x7qqf5x46/workspaces/earthlab-education-grassland-management-final/01-grassland-mangagment-final-nb.ipynb#X20sdnNjb2RlLXJlbW90ZQ%3D%3D\",\"path\":\"/workspaces/earthlab-education-grassland-management-final/01-grassland-mangagment-final-nb.ipynb\",\"scheme\":\"vscode-notebook-cell\",\"authority\":\"codespaces+obscure-space-invention-r4gw5vv6x7qqf5x46\",\"fragment\":\"X20sdnNjb2RlLXJlbW90ZQ==\"},{}]\u0001\u0000\u0000Բ\u0000\u0001\u0005[\u0000\u0000\u0000\u0005\u0006\u0000\u0000i\\\u0001\u0000\u0000Գ\u0000\u0001\u0005[\u0000\u0000\u0000\u0005\u0006\u0000\u0000i]\u0001\u0000\u0000Դ\u0000\u0001\u0005[\u0000\u0000\u0000\u0005\u0006\u0000\u0000i^\u0001\u0000\u0000Ե\u0000\u0001\u0005[\u0000\u0000\u0000\u0005\u0006\u0000\u0000i_\u0001\u0000\u0000Զ\u0000\u0001\u0005[\u0000\u0000\u0002c\u0002\u0000\u0000inV\u0012$provideCodeLenses\u0000\u0000\u0002F[33,{\"$mid\":1,\"fsPath\":\"/workspaces/earthlab-education-grassland-management-final/01-grassland-mangagment-final-nb.ipynb\",\"external\":\"vscode-notebook-cell://codespaces%2Bobscure-space-invention-r4gw5vv6x7qqf5x46/workspaces/earthlab-education-grassland-management-final/01-grassland-mangagment-final-nb.ipynb#X20sdnNjb2RlLXJlbW90ZQ%3D%3D\",\"path\":\"/workspaces/earthlab-education-grassland-management-final/01-grassland-mangagment-final-nb.ipynb\",\"scheme\":\"vscode-notebook-cell\",\"authority\":\"codespaces+obscure-space-invention-r4gw5vv6x7qqf5x46\",\"fragment\":\"X20sdnNjb2RlLXJlbW90ZQ==\"}]\u0001\u0000\u0000Է\u0000\u0001\u0005[\u0000\u0000\u0002c\u0002\u0000\u0000ioV\u0012$provideCodeLenses\u0000\u0000\u0002F[32,{\"$mid\":1,\"fsPath\":\"/workspaces/earthlab-education-grassland-management-final/01-grassland-mangagment-final-nb.ipynb\",\"external\":\"vscode-notebook-cell://codespaces%2Bobscure-space-invention-r4gw5vv6x7qqf5x46/workspaces/earthlab-education-grassland-management-final/01-grassland-mangagment-final-nb.ipynb#X20sdnNjb2RlLXJlbW90ZQ%3D%3D\",\"path\":\"/workspaces/earthlab-education-grassland-management-final/01-grassland-mangagment-final-nb.ipynb\",\"scheme\":\"vscode-notebook-cell\",\"authority\":\"codespaces+obscure-space-invention-r4gw5vv6x7qqf5x46\",\"fragment\":\"X20sdnNjb2RlLXJlbW90ZQ==\"}]\u0001\u0000\u0000Ը\u0000\u0001\u0005[\u0000\u0000\u0002b\u0002\u0000\u0000ipV\u0012$provideCodeLenses\u0000\u0000\u0002E[7,{\"$mid\":1,\"fsPath\":\"/workspaces/earthlab-education-grassland-management-final/01-grassland-mangagment-final-nb.ipynb\",\"external\":\"vscode-notebook-cell://codespaces%2Bobscure-space-invention-r4gw5vv6x7qqf5x46/workspaces/earthlab-education-grassland-management-final/01-grassland-mangagment-final-nb.ipynb#X20sdnNjb2RlLXJlbW90ZQ%3D%3D\",\"path\":\"/workspaces/earthlab-education-grassland-management-final/01-grassland-mangagment-final-nb.ipynb\",\"scheme\":\"vscode-notebook-cell\",\"authority\":\"codespaces+obscure-space-invention-r4gw5vv6x7qqf5x46\",\"fragment\":\"X20sdnNjb2RlLXJlbW90ZQ==\"}]\u0001\u0000\u0000Թ\u0000\u0001\u0005[\u0000\u0000\u0002b\u0002\u0000\u0000iqV\u0012$provideCodeLenses\u0000\u0000\u0002E[0,{\"$mid\":1,\"fsPath\":\"/workspaces/earthlab-education-grassland-management-final/01-grassland-mangagment-final-nb.ipynb\",\"external\":\"vscode-notebook-cell://codespaces%2Bobscure-space-invention-r4gw5",
      "application/vnd.holoviews_load.v0+json": ""
     },
     "metadata": {},
     "output_type": "display_data"
    },
    {
     "data": {
      "application/javascript": "",
      "application/vnd.holoviews_load.v0+json": ""
     },
     "metadata": {},
     "output_type": "display_data"
    },
    {
     "data": {
      "text/html": []
     },
     "metadata": {},
     "output_type": "display_data"
    },
    {
     "data": {
      "application/vnd.holoviews_exec.v0+json": "",
      "text/html": []
     },
     "metadata": {
      "application/vnd.holoviews_exec.v0+json": {
       "id": "p1005"
      }
     },
     "output_type": "display_data"
    }
   ],
   "source": [
    "from glob import glob\n",
    "import requests\n",
    "import shutil\n",
    "import os\n",
    "import wget \n",
    "\n",
    "import earthpy as et\n",
    "import earthpy.plot as ep\n",
    "import earthpy.appeears as eaap\n",
    "import folium\n",
    "import geopandas as gpd\n",
    "import geoviews as gv\n",
    "import hvplot.pandas\n",
    "import hvplot.xarray\n",
    "import matplotlib.pyplot as plt\n",
    "import numpy as np\n",
    "import pandas as pd\n",
    "import rasterio\n",
    "from rasterio.plot import show\n",
    "import rioxarray as rxr\n",
    "import rioxarray.merge as rxm\n",
    "import xarray as xr\n",
    "from xrspatial import aspect\n",
    "from xrspatial import slope\n",
    "\n",
    "data_dir = os.path.join(et.io.HOME, et.io.DATA_NAME)\n",
    "grasslands_dir = os.path.join(data_dir, 'grassland_units')\n",
    "vars_dir = os.path.join(data_dir, 'variables')\n",
    "soil_dir = os.path.join(vars_dir, 'theta_r_layer')\n",
    "\n",
    "for a_dir in [grasslands_dir, vars_dir, soil_dir]:\n",
    "    if not os.path.exists(a_dir):\n",
    "        os.makedirs(a_dir)"
   ]
  },
  {
   "cell_type": "markdown",
   "metadata": {},
   "source": [
    "Step 2: Load the National Grassland Units"
   ]
  },
  {
   "cell_type": "code",
   "execution_count": 2,
   "metadata": {},
   "outputs": [
    {
     "data": {
      "text/html": [],
      "text/plain": []
     },
     "execution_count": 2,
     "metadata": {},
     "output_type": "execute_result"
    }
   ],
   "source": [
    "# Downloading and saving the grasslands shapefile to the grasslands directory\n",
    "grasslands_path = os.path.join(grasslands_dir, 'S_USA.NationalGrassland.shp')\n",
    "if not os.path.exists(grasslands_path):\n",
    "    gpd.read_file(\"https://data.fs.usda.gov/geodata/edw/edw_resources/shp/S_USA.NationalGrassland.zip\").to_file(grasslands_path)\n",
    "\n",
    "# Building a GeoDataFrame from the USFS grasslands shapefile\n",
    "grasslands_gdf = gpd.read_file(grasslands_path).set_index('GRASSLANDN')\n",
    "\n",
    "# Subsetting the Little Missouri and Crooked River NG's\n",
    "lm_cr_s_ng_gdf = (\n",
    "    grasslands_gdf\n",
    "    .loc[['Little Missouri National Grassland', 'Crooked River National Grassland', 'Sheyenne National Grassland']]\n",
    ")\n",
    "lm_cr_s_ng_gdf\n"
   ]
  },
  {
   "cell_type": "markdown",
   "metadata": {},
   "source": [
    "Step 3: Downloading a series of variable layers in order to build the suitability model"
   ]
  },
  {
   "cell_type": "code",
   "execution_count": 3,
   "metadata": {},
   "outputs": [],
   "source": [
    "# Load the soil residual water content (theta_r) variable raster layer from the Polaris Dataset\n",
    "def polaris_theta_r_download(min_lat, min_lon):\n",
    "    \"\"\"\n",
    "    Parameters\n",
    "    ==========\n",
    "    min_lat : integer\n",
    "        The minimum single latitude which bounds the desired sudy area\n",
    "    min_lon : integer\n",
    "        The minimum single longitue which bounds the desired study area\n",
    "\n",
    "    Returns\n",
    "    =======\n",
    "    DataArray of raster data for the desired study variable bounded by a single degree of latitue and longitude\n",
    "    \"\"\"\n",
    "\n",
    "    min_lat, min_lon = min_lat, min_lon\n",
    "    max_lat, max_lon = min_lat+1, min_lon+1\n",
    "    polaris_url_format = (\"http://hydrology.cee.duke.edu/POLARIS/PROPERTIES\"\n",
    "                          \"/v1.0/theta_r/mean/100_200/lat{min_lat}{max_lat}\"\n",
    "                          \"_lon{min_lon}{max_lon}.tif\")\n",
    "\n",
    "    polaris_url = polaris_url_format.format(\n",
    "    min_lat=min_lat, min_lon=min_lon, max_lat=max_lat, max_lon=max_lon\n",
    "    )\n",
    "\n",
    "    return rxr.open_rasterio(polaris_url, masked=True).squeeze()\n",
    "\n",
    "lmng_soil_da = polaris_theta_r_download(47, -103)\n",
    "crng_soil_da = polaris_theta_r_download(44, -121)\n",
    "sng_soil_da = polaris_theta_r_download(46, -97)"
   ]
  },
  {
   "cell_type": "code",
   "execution_count": 4,
   "metadata": {},
   "outputs": [],
   "source": [
    "# Creating a for loop to replace the above function\n",
    "# List of national grasslands with associated latitude and longitude\n",
    "# national_grasslands_minlatlon = [\n",
    "#     {\"name\": \"Little Missouri National Grassland\", \"latitude\": 47, \"longitude\": -103},\n",
    "#     {\"name\": \"Crooked River National Grassland\", \"latitude\": 44, \"longitude\": -121},\n",
    "#     {\"name\": \"Sheyenne National Grassland\", \"latitude\": 46, \"longitude\": -97},\n",
    "# ]\n",
    "\n",
    "# # Loop through each national grassland\n",
    "# for grassland in national_grasslands_minlatlon:\n",
    "#     name = grassland[\"name\"]\n",
    "#     min_lat, min_lon = grassland[\"latitude\"], grassland[\"longitude\"]\n",
    "#     max_lat, max_lon = min_lat+1, min_lon+1\n",
    "\n",
    "#     polaris_url_format = (\"http://hydrology.cee.duke.edu/POLARIS/PROPERTIES\"\n",
    "#                           \"/v1.0/theta_r/mean/100_200/lat{min_lat}{max_lat}\"\n",
    "#                           \"_lon{min_lon}{max_lon}.tif\")\n",
    "\n",
    "#     polaris_url = polaris_url_format.format(\n",
    "#     min_lat=min_lat, min_lon=min_lon, max_lat=max_lat, max_lon=max_lon\n",
    "#     )\n",
    "\n",
    "#     data_array = rxr.open_rasterio(polaris_url, masked=True).squeeze()\n",
    "\n",
    "#     # Print information about the data array\n",
    "#     print(f\"DataArray for {name}:\")\n",
    "#     print(data_array)\n",
    "\n",
    "#     # Optionally, save the DataArray as a variable\n",
    "#     locals()[f\"{name.lower()}_data\"] = data_array\n",
    "\n"
   ]
  },
  {
   "cell_type": "code",
   "execution_count": 5,
   "metadata": {},
   "outputs": [],
   "source": [
    "# Load elevation data from the SRTM dataset through the APPEEARS API\n",
    "\n",
    "lmng_gdf = lm_cr_s_ng_gdf.loc[['Little Missouri National Grassland']]\n",
    "crng_gdf = lm_cr_s_ng_gdf.loc[['Crooked River National Grassland']]\n",
    "sng_gdf = lm_cr_s_ng_gdf.loc[['Sheyenne National Grassland']]\n",
    "\n",
    "# product_id = 'SRTMGL1_NC.003'\n",
    "# layer_id = 'SRTMGL1_DEM'\n",
    "\n",
    "def srtm_download(file_name, gdf):\n",
    "    \"\"\"\n",
    "    Parameters\n",
    "    ==========\n",
    "    file_name : str\n",
    "        Desired file name for the DataArray when it is saved in the earthpy downloads directory\n",
    "    gdf : GeoDatafram\n",
    "        The dataframe conatining a single geometry for the APPEEARS downloader to indentify \n",
    "\n",
    "    Returns\n",
    "    =======\n",
    "    DataArray of the elevations raster data for the selected national grassland geometry\n",
    "    \"\"\"\n",
    "    srtm_downloader = eaap.AppeearsDownloader(\n",
    "    ea_dir=data_dir,\n",
    "    download_key=file_name,\n",
    "    product='SRTMGL1_NC.003',\n",
    "    layer='SRTMGL1_DEM',\n",
    "    start_date='02-11-2000',\n",
    "    end_date='02-21-2000',\n",
    "    polygon=gdf\n",
    "    )\n",
    "    if not os.path.exists(os.path.join(data_dir, file_name)):\n",
    "        srtm_downloader.download_files(cache=True)\n",
    "\n",
    "    srtm_filepaths = glob(os.path.join(srtm_downloader.data_dir,\n",
    "                                       'SRTMGL1_NC.003*',\n",
    "                                       '*.tif'\n",
    "                                       ))\n",
    "    return [rxr.open_rasterio(srtm_filepaths, masked=True).squeeze() for srtm_filepaths in srtm_filepaths][0]\n",
    "\n",
    "lmng_elev_da = srtm_download('little-missouri-ng-srtm', lmng_gdf)\n",
    "crng_elev_da = srtm_download('crooked-river-ng-srtm', lmng_gdf)\n",
    "sng_elev_da = srtm_download('sheyenne-ng-srtm', lmng_gdf)"
   ]
  },
  {
   "cell_type": "code",
   "execution_count": 6,
   "metadata": {},
   "outputs": [],
   "source": [
    "# Load and save climate variable raster layers from the MACAv2 Dataset\n",
    "\n",
    "maca_url = (\"http://thredds.northwestknowledge.net:8080/thredds/ncss/\"\n",
    "              \"agg_macav2metdata_pr_CCSM4_r6i1p1_rcp45_2006_2099_CONUS_monthly\"\n",
    "              \".nc?var=precipitation&disableLLSubset=on\"\n",
    "              \"&disableProjSubset=on&horizStride=1\"\n",
    "              \"&time_start=2010-01-15T00%3A00%3A00Z\"\n",
    "              \"&time_end=2010-02-15T00%3A00%3A00Z\"\n",
    "              \"&timeStride=1&accept=netcdf\"\n",
    ")\n",
    "\n",
    "maca_respoinse = requests.get(maca_url)\n",
    "with open('maca.nc', 'wb') as maca_file:\n",
    "    maca_file.write(maca_respoinse.content)"
   ]
  },
  {
   "cell_type": "code",
   "execution_count": 7,
   "metadata": {},
   "outputs": [
    {
     "name": "stdout",
     "output_type": "stream",
     "text": []
    }
   ],
   "source": [
    "maca_ds = xr.open_dataset('maca.nc')\n",
    "maca_ds = maca_ds.assign_coords(lon=maca_ds.lon-360)\n",
    "precip_da = maca_ds.precipitation\n",
    "precip_da = precip_da.rio.write_crs(\"epsg:4326\", inplace=True)\n",
    "precip_da = precip_da.rio.set_spatial_dims('lon', 'lat', inplace=True)\n",
    "\n",
    "print(precip_da)\n",
    "\n",
    "# precip_da.mean('time').hvplot(rasterize=True) * lmng_gdf.hvplot()"
   ]
  },
  {
   "cell_type": "code",
   "execution_count": 8,
   "metadata": {},
   "outputs": [
    {
     "name": "stdout",
     "output_type": "stream",
     "text": []
    }
   ],
   "source": [
    "print(precip_da)"
   ]
  },
  {
   "cell_type": "code",
   "execution_count": 9,
   "metadata": {},
   "outputs": [
    {
     "data": {},
     "metadata": {},
     "output_type": "display_data"
    },
    {
     "data": {
      "application/vnd.holoviews_exec.v0+json": "",
      "text/html": [],
      "text/plain": []
     },
     "execution_count": 9,
     "metadata": {
      "application/vnd.holoviews_exec.v0+json": {
       "id": "p1007"
      }
     },
     "output_type": "execute_result"
    }
   ],
   "source": [
    "precip_da.rio.clip_box(*lmng_gdf.total_bounds).mean('time').hvplot()"
   ]
  },
  {
   "cell_type": "markdown",
   "metadata": {},
   "source": [
    "Step 4: calculating slope and aspect"
   ]
  },
  {
   "cell_type": "code",
   "execution_count": 10,
   "metadata": {},
   "outputs": [],
   "source": [
    "# utm_zone = 14, 13, 11\n",
    "\n",
    "def elev_to_slope (da, utm_zone):\n",
    "    reprojected_da = da.rio.reproject(f\"EPSG:326{utm_zone}\")\n",
    "    return slope(reprojected_da)\n",
    "\n",
    "sng_slope_da = elev_to_slope(sng_elev_da, 14)\n"
   ]
  },
  {
   "cell_type": "code",
   "execution_count": 11,
   "metadata": {},
   "outputs": [],
   "source": [
    "from xrspatial import aspect\n",
    "\n",
    "def elev_to_aspect (da, utm_zone):\n",
    "    reprojected_da = da.rio.reproject(f\"EPSG:326{utm_zone}\")\n",
    "    return aspect(reprojected_da)\n",
    "\n",
    "sng_aspect_da = elev_to_aspect(sng_elev_da, 14)"
   ]
  },
  {
   "cell_type": "code",
   "execution_count": 15,
   "metadata": {},
   "outputs": [
    {
     "data": {
      "text/html": [],
      "text/plain": []
     },
     "execution_count": 15,
     "metadata": {},
     "output_type": "execute_result"
    }
   ],
   "source": [
    "# Reproject the second raster to match the first raster\n",
    "# precip_da_utm = precip_da.rio.reproject_match(sng_slope_da)\n",
    "sng_soil_da_utm = sng_soil_da.rio.reproject(crs:32614)\n",
    "\n",
    "sng_soil_da_utm"
   ]
  },
  {
   "cell_type": "code",
   "execution_count": 13,
   "metadata": {},
   "outputs": [
    {
     "name": "stdout",
     "output_type": "stream",
     "text": []
    }
   ],
   "source": [
    "print(sng_soil_da)"
   ]
  }
 ],
 "metadata": {
  "kernelspec": {
   "display_name": "base",
   "language": "python",
   "name": "base"
  },
  "language_info": {
   "codemirror_mode": {
    "name": "ipython",
    "version": 3
   },
   "file_extension": ".py",
   "mimetype": "text/x-python",
   "name": "python",
   "nbconvert_exporter": "python",
   "pygments_lexer": "ipython3",
   "version": "3.10.11"
  }
 },
 "nbformat": 4,
 "nbformat_minor": 2
}
